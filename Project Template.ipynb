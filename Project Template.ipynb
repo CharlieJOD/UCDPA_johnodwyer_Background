{
 "cells": [
  {
   "cell_type": "code",
   "execution_count": null,
   "id": "ace806d9",
   "metadata": {},
   "outputs": [],
   "source": [
    "# 1. Data  \n",
    "# The project should use a real-world dataset and include a reference to the source in the report"
   ]
  },
  {
   "cell_type": "code",
   "execution_count": null,
   "id": "09b417a8",
   "metadata": {},
   "outputs": [],
   "source": [
    "# 2. Importing\n",
    "# Import data from a flat file (.csv, .xls, xlsx, .txt, etc.)\n",
    "# Retrieve data using online SQL, APIs, or web scraping"
   ]
  },
  {
   "cell_type": "code",
   "execution_count": 1,
   "id": "a1e3beaa",
   "metadata": {},
   "outputs": [],
   "source": [
    "# 3. Preparation\n",
    "# Create pandas DataFrame\n",
    "# Sorting, indexing, grouping\n",
    "# Drop duplicates, replace missing values\n",
    "# Merge DataFrames"
   ]
  },
  {
   "cell_type": "code",
   "execution_count": null,
   "id": "a47572ed",
   "metadata": {},
   "outputs": [],
   "source": [
    "# 4. Analysis\n",
    "# Conditional statements, looping, groupby\n",
    "# Define a custom function to create reusable code\n",
    "# Use NumPy functions\n",
    "# Dictionary or Lists"
   ]
  },
  {
   "cell_type": "code",
   "execution_count": null,
   "id": "fac899f2",
   "metadata": {},
   "outputs": [],
   "source": [
    "# 5. Visualisation\n",
    "# Generate at least two charts using Matplotlib or Seaborn"
   ]
  },
  {
   "cell_type": "code",
   "execution_count": null,
   "id": "62c7fe41",
   "metadata": {},
   "outputs": [],
   "source": [
    "# 6. Insights\n",
    "# Derive five valuable insights from the analysis\n",
    "# Justify your insights with reference to the charts or analysis"
   ]
  },
  {
   "cell_type": "code",
   "execution_count": null,
   "id": "d7b1fa6c",
   "metadata": {},
   "outputs": [],
   "source": [
    "# 7. Machine Learning\n",
    "# Describe what kind of prediction you could perform in future using machine learning and/or deep learning.\n",
    "# Would you use classification or regression methods?"
   ]
  },
  {
   "cell_type": "code",
   "execution_count": null,
   "id": "976a0bae",
   "metadata": {},
   "outputs": [],
   "source": []
  },
  {
   "cell_type": "code",
   "execution_count": 3,
   "id": "02d03f52",
   "metadata": {},
   "outputs": [],
   "source": [
    "import numpy as np # Check will I need this\n",
    "import pandas as pd\n",
    "import matplotlib.pyplot as plt\n",
    "import seaborn as sb\n"
   ]
  },
  {
   "cell_type": "code",
   "execution_count": null,
   "id": "f67ccc36",
   "metadata": {},
   "outputs": [],
   "source": [
    "# Importing data (and assign columns, header etc if necessary)\n",
    "# Create pandas DataFrame\n",
    "data = pd.read_csv('data.csv') # Yet to decide on dataset\n",
    "seconddata = pd.read_csv('seconddata.csv')"
   ]
  },
  {
   "cell_type": "code",
   "execution_count": null,
   "id": "74dd0fe7",
   "metadata": {},
   "outputs": [],
   "source": [
    "# Retrieve data using online SQL, API or web scraping"
   ]
  },
  {
   "cell_type": "code",
   "execution_count": null,
   "id": "24f26ca5",
   "metadata": {},
   "outputs": [],
   "source": [
    "# Explore Dataset\n",
    "data.head()"
   ]
  },
  {
   "cell_type": "code",
   "execution_count": null,
   "id": "c15bb62c",
   "metadata": {},
   "outputs": [],
   "source": [
    "data.shape()"
   ]
  },
  {
   "cell_type": "code",
   "execution_count": null,
   "id": "91c1f287",
   "metadata": {},
   "outputs": [],
   "source": [
    "data.info()"
   ]
  },
  {
   "cell_type": "code",
   "execution_count": null,
   "id": "3d70a2cf",
   "metadata": {},
   "outputs": [],
   "source": [
    "data.columns"
   ]
  },
  {
   "cell_type": "code",
   "execution_count": null,
   "id": "6f82877c",
   "metadata": {},
   "outputs": [],
   "source": []
  },
  {
   "cell_type": "code",
   "execution_count": null,
   "id": "50aadc62",
   "metadata": {},
   "outputs": [],
   "source": []
  },
  {
   "cell_type": "code",
   "execution_count": null,
   "id": "c39dde19",
   "metadata": {},
   "outputs": [],
   "source": []
  },
  {
   "cell_type": "code",
   "execution_count": null,
   "id": "f05d8ee7",
   "metadata": {},
   "outputs": [],
   "source": []
  }
 ],
 "metadata": {
  "kernelspec": {
   "display_name": "Python 3 (ipykernel)",
   "language": "python",
   "name": "python3"
  },
  "language_info": {
   "codemirror_mode": {
    "name": "ipython",
    "version": 3
   },
   "file_extension": ".py",
   "mimetype": "text/x-python",
   "name": "python",
   "nbconvert_exporter": "python",
   "pygments_lexer": "ipython3",
   "version": "3.9.13"
  }
 },
 "nbformat": 4,
 "nbformat_minor": 5
}
